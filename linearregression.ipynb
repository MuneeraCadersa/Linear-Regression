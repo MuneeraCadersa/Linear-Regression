{
 "cells": [
  {
   "cell_type": "code",
   "execution_count": 24,
   "metadata": {},
   "outputs": [],
   "source": [
    "#Linear regression example using data points [(1,1), (2,2), (3,2)] with visual interpretations (line of best fit)"
   ]
  },
  {
   "cell_type": "code",
   "execution_count": 1,
   "metadata": {},
   "outputs": [],
   "source": [
    "import numpy as np\n",
    "import matplotlib.pyplot as plt"
   ]
  },
  {
   "cell_type": "code",
   "execution_count": 8,
   "metadata": {},
   "outputs": [
    {
     "data": {
      "image/png": "[encoded data removed]",
      "text/plain": [
       "<Figure size 432x288 with 1 Axes>"
      ]
     },
     "metadata": {
      "needs_background": "light"
     },
     "output_type": "display_data"
    }
   ],
   "source": [
    "#(1,1 ; 2,2; 3,2)\n",
    "X = [[1,1],\n",
    "    [2,2],\n",
    "    [3,2]]\n",
    "X = np.array(X)\n",
    "plt.ylim(0,5)\n",
    "plt.xlim(0,5)\n",
    "plt.plot(X[:,0], X[:,1], 'r*')\n",
    "plt.show()"
   ]
  },
  {
   "cell_type": "code",
   "execution_count": 9,
   "metadata": {},
   "outputs": [
    {
     "name": "stdout",
     "output_type": "stream",
     "text": [
      "(3, 2)\n"
     ]
    }
   ],
   "source": [
    "Xmat = [[1,1],\n",
    "        [1,2],\n",
    "        [1,3]]\n",
    "Xmat = np.array(Xmat)\n",
    "print(np.shape(Xmat))"
   ]
  },
  {
   "cell_type": "code",
   "execution_count": 16,
   "metadata": {},
   "outputs": [
    {
     "name": "stdout",
     "output_type": "stream",
     "text": [
      "(3, 1)\n"
     ]
    }
   ],
   "source": [
    "Ymat = [[1,2,2]]\n",
    "Ymat = np.array(Ymat)\n",
    "Ymat = Ymat.T\n",
    "print((np.shape(Ymat)))"
   ]
  },
  {
   "cell_type": "code",
   "execution_count": 17,
   "metadata": {},
   "outputs": [
    {
     "name": "stdout",
     "output_type": "stream",
     "text": [
      "[[0.66666667]\n",
      " [0.5       ]]\n"
     ]
    }
   ],
   "source": [
    "thetas = np.linalg.inv(Xmat.T @ Xmat) @ Xmat.T @ Ymat\n",
    "print(thetas)"
   ]
  },
  {
   "cell_type": "code",
   "execution_count": 23,
   "metadata": {},
   "outputs": [
    {
     "data": {
      "image/png": "[encoded data removed]",
      "text/plain": [
       "<Figure size 432x288 with 1 Axes>"
      ]
     },
     "metadata": {
      "needs_background": "light"
     },
     "output_type": "display_data"
    }
   ],
   "source": [
    "plt.plot(X[:,0], X[:,1], 'ro')\n",
    "plt.ylim(0,5)\n",
    "plt.xlim(0,5)\n",
    "y1 = 0.5*(0) + (0.667)\n",
    "y2 = 0.5*(5) + (0.667)\n",
    "plt.plot([0,5],[y1,y2])\n",
    "plt.show()"
   ]
  },
  {
   "cell_type": "code",
   "execution_count": null,
   "metadata": {},
   "outputs": [],
   "source": []
  }
 ],
 "metadata": {
  "kernelspec": {
   "display_name": "Python 3",
   "language": "python",
   "name": "python3"
  },
  "language_info": {
   "codemirror_mode": {
    "name": "ipython",
    "version": 3
   },
   "file_extension": ".py",
   "mimetype": "text/x-python",
   "name": "python",
   "nbconvert_exporter": "python",
   "pygments_lexer": "ipython3",
   "version": "3.7.6"
  }
 },
 "nbformat": 4,
 "nbformat_minor": 4
}
